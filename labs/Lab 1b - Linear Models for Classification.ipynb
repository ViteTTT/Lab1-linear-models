{
  "cells": [
    {
      "cell_type": "markdown",
      "metadata": {
        "id": "DiSlf5dZpavw"
      },
      "source": [
        "# Lab 1b: Linear classification\n",
        "\n",
        "The [Fashion-MNIST dataset](https://www.openml.org/d/40996) contains 70,000 images of Zalando fashion products, classified into 10 types of clothing, each represented by 28 by 28 pixel values. We's see how well we can classify these with linear models. Let's start with looking at our data:"
      ]
    },
    {
      "cell_type": "code",
      "execution_count": null,
      "metadata": {
        "id": "eLScqGmOpav4"
      },
      "outputs": [],
      "source": [
        "# Auto-setup when running on Google Colab\n",
        "if 'google.colab' in str(get_ipython()):\n",
        "    !pip install openml\n",
        "\n",
        "# General imports\n",
        "%matplotlib inline\n",
        "import numpy as np\n",
        "import pandas as pd\n",
        "import matplotlib.pyplot as plt\n",
        "import openml as oml\n",
        "from matplotlib import cm\n",
        "\n",
        "# Hide convergence warning for now\n",
        "import warnings\n",
        "from sklearn.exceptions import ConvergenceWarning\n",
        "warnings.simplefilter(action=\"ignore\", category=ConvergenceWarning)"
      ]
    },
    {
      "cell_type": "code",
      "execution_count": null,
      "metadata": {
        "id": "J_kG296gpav6"
      },
      "outputs": [],
      "source": [
        "# Download FMINST data. Takes a while the first time.\n",
        "fmnist = oml.datasets.get_dataset(40996)\n",
        "X, y, _, _ = fmnist.get_data(target=fmnist.default_target_attribute);\n",
        "fmnist_classes = {0:\"T-shirt/top\", 1: \"Trouser\", 2: \"Pullover\", 3: \"Dress\", 4: \"Coat\", 5: \"Sandal\",\n",
        "                  6: \"Shirt\", 7: \"Sneaker\", 8: \"Bag\", 9: \"Ankle boot\"}"
      ]
    },
    {
      "cell_type": "code",
      "execution_count": null,
      "metadata": {
        "id": "EqP7TewGpav8"
      },
      "outputs": [],
      "source": [
        "# Take some random examples, reshape to a 32x32 image and plot\n",
        "from random import randint\n",
        "fig, axes = plt.subplots(1, 5,  figsize=(10, 5))\n",
        "for i in range(5):\n",
        "    n = randint(0,70000)\n",
        "    axes[i].imshow(X.values[n].reshape(28, 28), cmap=plt.cm.gray_r)\n",
        "    axes[i].set_xlabel((fmnist_classes[int(y.values[n])]))\n",
        "    axes[i].set_xticks(()), axes[i].set_yticks(())\n",
        "plt.show();"
      ]
    },
    {
      "cell_type": "markdown",
      "metadata": {
        "id": "MwVdcEmhpav-"
      },
      "source": [
        "## Exercise 1: A quick benchmark\n",
        "First, we'll try the default [Logistic Regression](https://scikit-learn.org/stable/modules/generated/sklearn.linear_model.LogisticRegression.html) and [Linear SVMs](https://scikit-learn.org/stable/modules/generated/sklearn.svm.LinearSVC.html?highlight=linearsvc#sklearn.svm.LinearSVC). Click the links to read the documentation. We'll also compare it to [k-Nearest Neighbors](https://scikit-learn.org/stable/modules/generated/sklearn.neighbors.KNeighborsClassifier.html) as a point of reference. To see whether our models are overfitting, we also evaluate the training set error. This can be done using [`cross_validate`](https://scikit-learn.org/stable/modules/generated/sklearn.model_selection.cross_validate.html) instead of  [`cross_val_scores`](https://scikit-learn.org/stable/modules/generated/sklearn.model_selection.cross_val_score.html#sklearn.model_selection.cross_val_score).\n",
        "\n",
        "For now we are just interested in a quick approximation, so we don't use the full dataset for our experiments. Instead, we use 10% of our samples:"
      ]
    },
    {
      "cell_type": "code",
      "execution_count": null,
      "metadata": {
        "id": "XvV6XgObpav-"
      },
      "outputs": [],
      "source": [
        "# Import các thư viện cần thiết\n",
        "import numpy as np\n",
        "import matplotlib.pyplot as plt\n",
        "from sklearn.datasets import fetch_openml\n",
        "from sklearn.linear_model import LogisticRegression\n",
        "from sklearn.svm import LinearSVC\n",
        "from sklearn.neighbors import KNeighborsClassifier\n",
        "from sklearn.model_selection import cross_validate, train_test_split, GridSearchCV\n",
        "from sklearn.metrics import ConfusionMatrixDisplay, confusion_matrix\n",
        "\n",
        "# Load dataset (Fashion MNIST)\n",
        "X, y = fetch_openml('Fashion-MNIST', version=1, return_X_y=True, as_frame=False)\n",
        "X = X / 255.0\n",
        "y = y.astype(int)\n",
        "\n",
        "# Train/test split\n",
        "X_train, X_test, y_train, y_test = train_test_split(\n",
        "    X, y, test_size=0.2, stratify=y, random_state=42\n",
        ")\n",
        "\n"
      ]
    },
    {
      "cell_type": "markdown",
      "metadata": {
        "id": "MQW5SOYWpav_"
      },
      "source": [
        "With this small sample of our data we can now train and evaluate the three classifiers."
      ]
    },
    {
      "cell_type": "markdown",
      "metadata": {
        "id": "amVXycSgpawA"
      },
      "source": [
        "### Exercise 1.1\n",
        "Implement a function below which evaluates each classifier passed into it on the given data, and then returns both the train and test scores of each as a list. You are allowed to import additional functions from whichever module you like, but you should be able to complete the function with [`cross_validate`](https://scikit-learn.org/stable/modules/generated/sklearn.model_selection.cross_validate.html) function and standard Python built-ins. Below the function you will find example output."
      ]
    },
    {
      "cell_type": "code",
      "execution_count": null,
      "metadata": {
        "id": "qGBBbrAjpawA"
      },
      "outputs": [],
      "source": [
        "def evaluate_learners(classifiers, X, y):\n",
        "    train_scores, test_scores = [], []\n",
        "    for clf in classifiers:\n",
        "        cv_results = cross_validate(clf, X, y, return_train_score=True, cv=5)\n",
        "        train_scores.append(cv_results['train_score'])\n",
        "        test_scores.append(cv_results['test_score'])\n",
        "    return train_scores, test_scores\n"
      ]
    },
    {
      "cell_type": "markdown",
      "metadata": {
        "id": "V3D3DgmSpawB"
      },
      "source": [
        "### Exercise 1.2\n",
        "Call the function you created with a Logistic Regression, Linear SVM, and k-Nearest Neighbors Classifier.\n",
        "Store the return values in the variables `train_scores` and `test_scores`. Then, run the code given below to produce a plot visualizing the scores."
      ]
    },
    {
      "cell_type": "code",
      "execution_count": null,
      "metadata": {
        "id": "1Ah6mH61pawB"
      },
      "outputs": [],
      "source": [
        "classifiers = [\n",
        "    LogisticRegression(max_iter=1000),\n",
        "    LinearSVC(max_iter=1000),\n",
        "    KNeighborsClassifier()\n",
        "]\n",
        "\n",
        "train_scores, test_scores = evaluate_learners(classifiers, X_train, y_train)"
      ]
    },
    {
      "cell_type": "code",
      "execution_count": null,
      "metadata": {
        "id": "ZN0H03gzpawC"
      },
      "outputs": [],
      "source": [
        "x = np.arange(len(labels))\n",
        "width = 0.35\n",
        "\n",
        "fig, ax = plt.subplots()\n",
        "ax.bar(x - width/2, [np.mean(ts) for ts in train_scores], width, label='Train')\n",
        "ax.bar(x + width/2, [np.mean(ts) for ts in test_scores], width, label='Test')\n",
        "\n",
        "ax.set_ylabel(\"Accuracy\")\n",
        "ax.set_title(\"Train vs Test Accuracy\")\n",
        "ax.set_xticks(x)\n",
        "ax.set_xticklabels(labels)\n",
        "ax.legend()\n",
        "plt.show()"
      ]
    },
    {
      "cell_type": "markdown",
      "metadata": {
        "id": "gEmntD2YpawD"
      },
      "source": [
        "### Exercise 1.3\n",
        "Interpret the plot. Which is the best classifier? Are any of the models overfitting? If so, what can we do to solve this? Is there a lot of variance in the results?"
      ]
    },
    {
      "cell_type": "markdown",
      "metadata": {
        "id": "t-XaJNCCpawD"
      },
      "source": [
        "## Exercise 2: Regularization\n",
        "We will now tune these algorithm's main regularization hyperparameter: the misclassification cost in SVMs (C), the regularization parameter in logistic regression (C), and the number of neighbors (n_neighbors) in kNN. We expect the optimum for the C parameters to lie in $[10^{-12},10^{12}]$ and for n_neighbors between 1 and 50. C should be varied on a log scale (i.e. [0.01, 0.1, 1, 10, 100]) and k should be varied uniformly (i.e. [1,2,3,4])."
      ]
    },
    {
      "cell_type": "markdown",
      "metadata": {
        "id": "q2pxS8DEpawD"
      },
      "source": [
        "### Exercise 2.1\n",
        "Vary the regularization parameters in the range given above and, for each classifier, create a line plot that plots both the training and test score for every value of the regularization hyperparameter. Hence, you should produce 3 plots, one for each classifier. Use the default 5-fold cross validation for all scores, but only plot the means.\n",
        "\n",
        "Hints:\n",
        "* Think about the time complexity of these models. Trying too many hyperparameter values may take too much time.\n",
        "* You can make use of numpy's [logspace](https://docs.scipy.org/doc/numpy/reference/generated/numpy.logspace.html), [geomspace](https://docs.scipy.org/doc/numpy/reference/generated/numpy.geomspace.html?highlight=geomspace#numpy.geomspace), and [linspace](https://docs.scipy.org/doc/numpy/reference/generated/numpy.linspace.html#numpy.linspace) functions.\n",
        "* You can use matplotlib's default [plot](https://matplotlib.org/tutorials/introductory/pyplot.html) function to plot the train and test scores.\n",
        "* You can manually loop over the hyperparameter ranges, or you can already check out scikit-learn's [GridSearchCV](https://scikit-learn.org/stable/modules/generated/sklearn.model_selection.GridSearchCV.html) function to save some programming. We'll see it again later in the course.\n"
      ]
    },
    {
      "cell_type": "markdown",
      "metadata": {
        "id": "oCiU2Ae7pawD"
      },
      "source": [
        "#### Solution"
      ]
    },
    {
      "cell_type": "code",
      "execution_count": null,
      "metadata": {
        "id": "6bqsf1OCpawE"
      },
      "outputs": [],
      "source": [
        "def plot_tuning(grid_search, param_name, ax):\n",
        "    ax.plot(grid_search.param_grid[param_name], grid_search.cv_results_['mean_test_score'], marker='o')\n",
        "    ax.plot(grid_search.param_grid[param_name], grid_search.cv_results_['mean_train_score'], marker='x')\n",
        "    ax.set_xlabel(param_name)\n",
        "    ax.set_ylabel(\"Accuracy\")\n",
        "    ax.set_xscale(\"log\")\n",
        "    ax.legend([\"Test\", \"Train\"])\n",
        "    ax.set_title(grid_search.best_estimator_.__class__.__name__)\n",
        "    print(f\"Best {param_name}: {grid_search.best_params_[param_name]}, ACC: {grid_search.best_score_:.4f}\")\n",
        "\n",
        "# Logistic Regression (C)\n",
        "param_grid_lr = {\"C\": np.logspace(-2, 2, 10)}\n",
        "grid_lr = GridSearchCV(LogisticRegression(max_iter=1000), param_grid_lr, cv=5, return_train_score=True)\n",
        "grid_lr.fit(X_train, y_train)\n",
        "\n",
        "# Linear SVM (C)\n",
        "param_grid_svm = {\"C\": np.logspace(-2, 2, 10)}\n",
        "grid_svm = GridSearchCV(LinearSVC(max_iter=1000), param_grid_svm, cv=5, return_train_score=True)\n",
        "grid_svm.fit(X_train, y_train)\n",
        "\n",
        "# KNN (n_neighbors)\n",
        "param_grid_knn = {\"n_neighbors\": np.arange(1, 21)}\n",
        "grid_knn = GridSearchCV(KNeighborsClassifier(), param_grid_knn, cv=5, return_train_score=True)\n",
        "grid_knn.fit(X_train, y_train)\n",
        "\n",
        "fig, axes = plt.subplots(1, 3, figsize=(15, 4))\n",
        "plot_tuning(grid_lr, \"C\", axes[0])\n",
        "plot_tuning(grid_svm, \"C\", axes[1])\n",
        "plot_tuning(grid_knn, \"n_neighbors\", axes[2])\n",
        "plt.show()\n"
      ]
    },
    {
      "cell_type": "markdown",
      "metadata": {
        "id": "sh3hoRW7pawE"
      },
      "source": [
        "### Exercise 2.2\n",
        "Interpret the plots. When are the methods underfitting? When are they overfitting? How sensitive are they to the regularization hyperparameter?\n",
        "\n",
        "Underfitting:\n",
        "\n",
        "Test score và Train score đều thấp → mô hình quá đơn giản hoặc regularization quá mạnh.\n",
        "\n",
        "Ví dụ: Logistic Regression với C quá nhỏ (≈1e-12).\n",
        "\n",
        "Overfitting:\n",
        "\n",
        "Train score rất cao nhưng Test score giảm → mô hình quá phức tạp hoặc regularization quá yếu.\n",
        "\n",
        "Ví dụ: Logistic Regression hoặc SVM với C quá lớn.\n",
        "\n",
        "Ổn định nhất:\n",
        "\n",
        "Điểm mà Test score cao nhất và chênh lệch Train-Test nhỏ nhất.\n",
        "\n",
        "Với kNN thường khoảng n_neighbors ≈ 3–10.\n",
        "\n",
        "Với LogReg & SVM thường C nằm giữa khoảng 1e-4 → 10."
      ]
    },
    {
      "cell_type": "markdown",
      "metadata": {
        "id": "10rQ0j0YpawE"
      },
      "source": [
        "## Exercise 3: Interpreting misclassifications\n",
        "Chances are that your models are not yet perfect. It is important to understand what kind of errors it still makes. Let's take a closer look at which instances are misclassified and which classes are often confused.\n",
        "Train the logistic regression model with `C=1e-7`. Train the model on a training set, and make predictions for a test set (both sets should be  sampled from our 10% subsample)."
      ]
    },
    {
      "cell_type": "code",
      "execution_count": null,
      "metadata": {
        "id": "j0EnTZdEpawE"
      },
      "outputs": [],
      "source": [
        "# Create a stratified train-test split on a sample\n",
        "X_train, X_test, y_train, y_test = train_test_split(Xs,ys, stratify=ys, random_state=0)"
      ]
    },
    {
      "cell_type": "markdown",
      "metadata": {
        "id": "NImqaP39pawF"
      },
      "source": [
        "### Exercise 3.1\n",
        "Train the classifier as described above, obtain the predictions `y_pred` on the test set, and identify all the misclassified samples `misclassified_samples`. Then, run the visualization code below to study the misclassifications"
      ]
    },
    {
      "cell_type": "code",
      "execution_count": null,
      "metadata": {
        "id": "1fdAgZuzpawF"
      },
      "outputs": [],
      "source": [
        "# Dùng Logistic Regression với best C từ grid search\n",
        "clf = LogisticRegression(C=grid_lr.best_params_[\"C\"], max_iter=1000)\n",
        "clf.fit(X_train, y_train)\n",
        "y_pred = clf.predict(X_test)\n",
        "\n"
      ]
    },
    {
      "cell_type": "code",
      "execution_count": null,
      "metadata": {
        "id": "cJj8Id1xpawG"
      },
      "outputs": [],
      "source": [
        "# 5. Run the visualization code (as per source 177-181)\n",
        "misclassified_idx = np.where(y_pred != y_test)[0][:5]\n",
        "\n",
        "fig, axes = plt.subplots(1, 5, figsize=(12, 3))\n",
        "for i, ax in enumerate(axes):\n",
        "    ax.imshow(X_test[misclassified_idx[i]].reshape(28, 28), cmap=\"gray\")\n",
        "    ax.set_title(f\"P:{y_pred[misclassified_idx[i]]}\\nT:{y_test[misclassified_idx[i]]}\")\n",
        "    ax.axis(\"off\")\n",
        "plt.show()\n"
      ]
    },
    {
      "cell_type": "markdown",
      "metadata": {
        "id": "eF2y1_WDpawG"
      },
      "source": [
        "### Exercise 3.2\n",
        "Interpret the results. Are these misclassifications to be expected?\n",
        "\n",
        "\n",
        "Một số nhãn dễ nhầm lẫn (ví dụ: Shirt vs T-shirt/top, hoặc Coat vs Pullover) → vì hình dáng tương tự.\n",
        "\n",
        "Đây là những misclassifications dễ hiểu và khá “expected”.\n",
        "\n",
        "Nếu nhiều lỗi không hợp lý → có thể do mô hình underfitting (regularization quá mạnh với C=1e-7)."
      ]
    },
    {
      "cell_type": "markdown",
      "metadata": {
        "id": "_ShGM1f8pawG"
      },
      "source": [
        "### Exercise 3.3.\n",
        "Run the code below on your results to draw the complete confusion matrix and get more insight on the systematic misclassifications\n",
        "of your model. A confusion matrix shows the amount of examples in for each pair of true and predicted classes. Interpret the results.\n",
        "Does your model produce certain types of error more often than other types?"
      ]
    },
    {
      "cell_type": "code",
      "execution_count": null,
      "metadata": {
        "id": "zNgwVHhypawG"
      },
      "outputs": [],
      "source": [
        "cm = confusion_matrix(y_test, y_pred)\n",
        "disp = ConfusionMatrixDisplay(confusion_matrix=cm)\n",
        "disp.plot(cmap=\"plasma\", xticks_rotation=45)\n",
        "plt.show()\n"
      ]
    },
    {
      "cell_type": "markdown",
      "metadata": {
        "id": "PYQlGhshpawH"
      },
      "source": [
        "## Exercise 4: Interpreting model parameters\n",
        "Finally, we'll take a closer look at the model parameters, i.e. the coefficients of our linear models. Since we are dealing with 28x28 pixel images, we have to learn 784 coefficients. What do these coefficients mean? We'll start by plotting them as 28x28 pixel images."
      ]
    },
    {
      "cell_type": "markdown",
      "metadata": {
        "id": "BRu8c4uzpawH"
      },
      "source": [
        "### Exercise 4.1\n",
        "Train a Logistic Regression model and a Linear SVM using their tuned hyperparameters from exercise 2.\n",
        "When in doubt, use `C=1e-7` for LogReg and `C=1e-8` for the SVM.\n",
        "Pass the trained model to the provided plotting function. Interpret the results in detail.\n",
        "Why do you get multiple plots per model? What do the features represent in your data.\n",
        "Does it seems like the models pay attention to the right features?\n",
        "Do you models seem to ignore certain features? Do you observe differences in quality between the different classes? Do you observe any differences between the models?"
      ]
    },
    {
      "cell_type": "code",
      "execution_count": null,
      "metadata": {
        "id": "ZolOJebXpawH"
      },
      "outputs": [],
      "source": [
        "# Logistic Regression coefficients\n",
        "clf_lr = LogisticRegression(C=grid_lr.best_params_[\"C\"], max_iter=1000)\n",
        "clf_lr.fit(X_train, y_train)\n",
        "\n",
        "# SVM coefficients\n",
        "clf_svm = LinearSVC(C=grid_svm.best_params_[\"C\"], max_iter=1000)\n",
        "clf_svm.fit(X_train, y_train)\n",
        "\n",
        "fig, axes = plt.subplots(1, 2, figsize=(10, 5))\n",
        "for ax, clf, title in zip(axes, [clf_lr, clf_svm], [\"Logistic Regression\", \"Linear SVM\"]):\n",
        "    coef = clf.coef_[0].reshape(28, 28)\n",
        "    ax.imshow(coef, cmap=\"seismic\", interpolation=\"nearest\")\n",
        "    ax.set_title(title)\n",
        "    ax.axis(\"off\")\n",
        "plt.show()\n"
      ]
    },
    {
      "cell_type": "markdown",
      "metadata": {
        "id": "CvEeubEGpawH"
      },
      "source": [
        "### Exercise 4.2\n",
        "Repeat the previous exercise, but now only with logistic regression. In addition to a tuned version, also add a model that overfits a lot and one that underfits a lot. Interpret and explain the results."
      ]
    }
  ],
  "metadata": {
    "anaconda-cloud": {},
    "kernelspec": {
      "display_name": "Python 3 (ipykernel)",
      "language": "python",
      "name": "python3"
    },
    "language_info": {
      "codemirror_mode": {
        "name": "ipython",
        "version": 3
      },
      "file_extension": ".py",
      "mimetype": "text/x-python",
      "name": "python",
      "nbconvert_exporter": "python",
      "pygments_lexer": "ipython3",
      "version": "3.9.7"
    },
    "colab": {
      "provenance": []
    }
  },
  "nbformat": 4,
  "nbformat_minor": 0
}